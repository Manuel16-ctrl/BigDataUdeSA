{
 "cells": [
  {
   "cell_type": "markdown",
   "id": "a255400f-b0d5-4928-a7e1-a8d29cb6df21",
   "metadata": {},
   "source": [
    "# Tutorial de Big Data (UdeSA) - 2025\n",
    "## Tutorial 1. Introducción a Python II\n",
    "\n",
    "### Soluciones ejercicios\n"
   ]
  },
  {
   "cell_type": "markdown",
   "id": "57b266e5-a100-457c-a881-679d1d7a3ae6",
   "metadata": {},
   "source": [
    "1. Escribir una función llamada 'saludar' que toma como argumento el nombre de una persona e imprime el saludo \"Hola, (nombre)!\""
   ]
  },
  {
   "cell_type": "code",
   "execution_count": null,
   "id": "f7f6c42c-e4ea-4435-a87c-724d68014365",
   "metadata": {},
   "outputs": [],
   "source": [
    "def saludar(nombre):\n",
    "    #print('Hola,', nombre) #es equivalente a print('Hola, {}'.format(nombre)) o print(f\"Hola, {nombre}!\") \n",
    "    print(f\"Hola, {nombre}!\") \n",
    "\n",
    "saludar('Tomi')"
   ]
  },
  {
   "cell_type": "code",
   "execution_count": null,
   "id": "8c5a42da-b126-487b-a26f-a58525017834",
   "metadata": {},
   "outputs": [],
   "source": [
    "# Sobre como formatear el output:\n",
    "print('La materia {} se dicta desde {}'.format('Big data', 'febrero'))\n",
    " \n",
    "# También podemos referirnos a la posición del objeto:\n",
    "print('{0} y {1}'.format('septiembre', 'octubre'))\n",
    "print('{1} y {0}'.format('octubre', 'septiembre'))\n",
    "print('La materia {0} se dicta desde {1}'.format('Big data', 'febrero'))\n",
    "\n",
    "# O también podemos formatear el string de esta forma\n",
    "print(f\"\\nLa materia {'Big data'} se dicta desde {'febrero'}\")"
   ]
  },
  {
   "cell_type": "markdown",
   "id": "7111fd98-01a7-4ca0-a514-cea07b4ee771",
   "metadata": {},
   "source": [
    "2. Ahora modificar la función del ejercicio anterior tal que tenga el argumento de nombre predefinido. \n",
    "Si no se define un nombre debería imprimir \"Hola, amigo\".\n"
   ]
  },
  {
   "cell_type": "code",
   "execution_count": null,
   "id": "7bf2320a-40ae-4692-b9e1-d430d96b0af8",
   "metadata": {},
   "outputs": [],
   "source": [
    "def saludar(nombre_pred = 'amigo'):\n",
    "    print('Hola,', nombre_pred)\n",
    "\n",
    "saludar()\n",
    "saludar('Tomi')"
   ]
  },
  {
   "cell_type": "markdown",
   "id": "032df2ba-0f18-43fa-897a-77a1e51a2dfd",
   "metadata": {},
   "source": [
    "3. Escribir una función llamada 'calcular_area' que toma los parámetros de base y altura de un rectángulo y devuelve el área."
   ]
  },
  {
   "cell_type": "code",
   "execution_count": null,
   "id": "952d78dc-811a-415a-9f29-bb5b70698133",
   "metadata": {},
   "outputs": [],
   "source": [
    "def calcular_area(base, altura):\n",
    "    return base*altura\n",
    "\n",
    "calcular_area(4, 8)"
   ]
  },
  {
   "cell_type": "markdown",
   "id": "f8f1cfd2-12ba-4a7d-9a55-c4bbf98a1294",
   "metadata": {},
   "source": [
    "4. Escribir una función 'sumar_nros' que toma como argumentos dos números y devuelve su suma. Incluir un docstring que describe qué hace la función.\n"
   ]
  },
  {
   "cell_type": "code",
   "execution_count": null,
   "id": "d1b15941-bc2d-471c-9311-755081f91ed3",
   "metadata": {},
   "outputs": [],
   "source": [
    "def sumar_nros(a, b):\n",
    "    '''\n",
    "    Esta función toma como argumentos dos números y devuelve su suma\n",
    "    '''\n",
    "    return a+b\n",
    "\n",
    "sumar_nros(3, 5)"
   ]
  },
  {
   "cell_type": "markdown",
   "id": "104f8c8e-9b40-4ec8-9131-94e09a76a3b7",
   "metadata": {},
   "source": [
    "help(sumar_nros)"
   ]
  },
  {
   "cell_type": "markdown",
   "id": "c2eb6aae-bed8-4f73-932e-d8dff5298595",
   "metadata": {},
   "source": [
    "5. Escribir una función llamada 'ver_info' que toma dos argumentos, nombre y edad, e imprime un mensaje de la forma: \"Nombre: (nombre) Edad: (edad)\"."
   ]
  },
  {
   "cell_type": "code",
   "execution_count": 7,
   "id": "1becd5df-51e3-47e5-8740-bb872e19c819",
   "metadata": {},
   "outputs": [
    {
     "name": "stdout",
     "output_type": "stream",
     "text": [
      "Nombre: Juan, Edad: 24\n",
      "Nombre: Juan, Edad: 24\n",
      "Nombre: 24, Edad: Juan\n",
      "Nombre: Juan, Edad: 24\n"
     ]
    }
   ],
   "source": [
    "def ver_info(nombre, edad):\n",
    "    print(f'Nombre: {nombre}, Edad: {edad}') # es equivalente a print('Nombre: {}, Edad: {}'.format(nombre, edad))\n",
    "    #print('Nombre:', nombre, ', Edad:', edad)\n",
    "    \n",
    "ver_info(nombre='Juan', edad=24)\n",
    "ver_info('Juan', 24)\n",
    "# notar que si no especificamos el nombre del parámetro e invertimos el orden de los argumentos, el resultado cambia:\n",
    "ver_info(24, 'Juan')\n",
    "# pero si especificamos el nombre del parámetro, el resultado queda bien ordenado aunque el orden esté invertido\n",
    "ver_info(edad=24, nombre='Juan')"
   ]
  },
  {
   "cell_type": "markdown",
   "id": "fa7a9dcb-2031-4df1-b1b2-a6a6c79ab5b5",
   "metadata": {},
   "source": [
    "6. Modificar la función del ejercicio anterior para que tenga valores por default para nombre y edad. \n",
    "Si no se especifica un valor, la función debería imprimir \"Nombre: Desconocido, Edad: Desconocida\"."
   ]
  },
  {
   "cell_type": "code",
   "execution_count": 12,
   "id": "42233820-c7d9-4612-b44c-75183b0ea3c4",
   "metadata": {},
   "outputs": [
    {
     "name": "stdout",
     "output_type": "stream",
     "text": [
      "Nombre: Desconocido, Edad: Desconocida\n",
      "Nombre: Juan, Edad: 24\n"
     ]
    }
   ],
   "source": [
    "def ver_info(nombre = 'Desconocido', edad = 'Desconocida'):\n",
    "    print(f'Nombre: {nombre}, Edad: {edad}')\n",
    "\n",
    "ver_info()\n",
    "ver_info(nombre='Juan', edad=24)"
   ]
  },
  {
   "cell_type": "markdown",
   "id": "ad8a899c-663d-404a-89cf-3db8cdd26588",
   "metadata": {},
   "source": [
    "Ahora veamos un ejercicio cuando la cantidad de parámetros de la función no es fija\n",
    "\n",
    "7. Escribir una función llamada 'equipo' que tome una cantidad variable de argumentos (nombres de los miembros de un equipo) e imprima 'Hola, (miembro)'\n",
    "\n",
    "Ayuda: El símbolo * permite indicar que habrá un número variable de argumentos posicionales para la función.\n",
    "Se usa el asterisco antes del nombre del parámetro (sería: ``def funcion(*args):`` )\n",
    "Esto se usa para evitar errores en el código cuando no sabemos cuántos argumentos se pasarán a la función. "
   ]
  },
  {
   "cell_type": "code",
   "execution_count": null,
   "id": "06d96a14-ee47-46f3-8d9f-0e77d89d2315",
   "metadata": {},
   "outputs": [],
   "source": [
    "def equipo(*miembros):\n",
    "    for i in miembros:\n",
    "        print('Hola,', i)\n",
    "\n",
    "#equipo('Tomas', 'Facundo')\n",
    "equipo('Tomas', 'Facundo', 'Carla')"
   ]
  },
  {
   "cell_type": "markdown",
   "id": "4a6b0f5d-286a-4fc3-a102-dea417a5674f",
   "metadata": {},
   "source": [
    "Ahora veamos un ejercicio cuando la cantidad de parámetros de la función no es fija y podemos definirlos por su nombre\n",
    "\n",
    "8. Crear una nueva función llamada 'equipo' que permita pasar parámetros con distintos nombres e imprima el nombre de cada parámetro y su valor\n",
    "\n",
    "Ayuda: Con doble asterisco ** podemos indicar que habrá un **número variable de argumentos por nombre** (keyword) en la función.\n",
    "Se usa el asterisco antes del nombre del parámetro (sería: ``def funcion(**kwargs)``: )\n",
    "En este caso los argumentos se pasan como un diccionario, los argumentos conforman un diccionario dentro de la función"
   ]
  },
  {
   "cell_type": "code",
   "execution_count": 16,
   "id": "e3ece55d-9aee-4b79-a1c3-74e8f236a227",
   "metadata": {},
   "outputs": [
    {
     "name": "stdout",
     "output_type": "stream",
     "text": [
      "<class 'dict'>\n",
      "nro_equipo: 1\n",
      "cantidad_miembros: 3\n",
      "paper: Blumenstock\n"
     ]
    }
   ],
   "source": [
    "def equipo(**detalles):\n",
    "    print(type(detalles)) #tipo: diccionario\n",
    "    \n",
    "    for key,value in detalles.items():\n",
    "        print(f'{key}: {value}')\n",
    "        \n",
    "#equipo(nro_equipo=1, cantidad_miembros=3, paper = \"Blumenstock\", tp=4)\n",
    "\n",
    "equipo(nro_equipo=1, cantidad_miembros=3, paper = \"Blumenstock\")"
   ]
  }
 ],
 "metadata": {
  "kernelspec": {
   "display_name": "Python 3 (ipykernel)",
   "language": "python",
   "name": "python3"
  },
  "language_info": {
   "codemirror_mode": {
    "name": "ipython",
    "version": 3
   },
   "file_extension": ".py",
   "mimetype": "text/x-python",
   "name": "python",
   "nbconvert_exporter": "python",
   "pygments_lexer": "ipython3",
   "version": "3.11.7"
  }
 },
 "nbformat": 4,
 "nbformat_minor": 5
}
