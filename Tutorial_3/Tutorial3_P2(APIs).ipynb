{
 "cells": [
  {
   "cell_type": "markdown",
   "metadata": {
    "id": "7kzUMiEAfpsi"
   },
   "source": [
    "# Tutorial de Big Data (UdeSA) 2025\n",
    "## Tutorial 2 - Parte 3\n",
    "\n",
    "- Conocer qué son y cómo trabajar con APIs"
   ]
  },
  {
   "cell_type": "markdown",
   "metadata": {
    "id": "tTkqMFi3fpsj"
   },
   "source": [
    "¿Qué es una API? Los sistemas tienen distintos tipos de interfaces que permiten interactuar con ellos.\n",
    "\n",
    "* **GUI (Graphical User Interface o interfaz gráfica)**: El usuario clickea e interactúa con distintos objetos para ejecutar acciones y lograr sus objetivos. Las páginas web tienen interfaces gráficas.\n",
    "* **API (Application Programming Interface o interfaz de programación)**: El usuario escribe líneas de código para interactuar con el sistema, ejecutar acciones y lograr sus objetivos.\n",
    "\n",
    "Todos los sitios web tienen una interfaz gráfica con la que estamos acostumbrados a interactuar, y también tienen una interfaz de programación más o menos desarrollada, o más o menos expuesta, con la cual tal vez no estemos tan acostumbrados a interactuar.\n",
    "\n",
    "Ejemplo:\n",
    "\n",
    "En https://www.mercadolibre.com.ar/ podemos buscar en el buscador \"pelotas\", apretar \"Enter\" y el sistema devuelve el resultado de una búsqueda. Si, en cambio, ponemos por \"pelotas futbol\" y apretamos \"Enter\" de nuevo, cambiará el resultado de la búsqueda. Esta es la **interfaz gráfica del sitio**.\n",
    "\n",
    "Sin embargo, también podríamos lograr el mismo objetivo sólo escribiendo distintas URLs en el navegador:\n",
    "\n",
    "* https://listado.mercadolibre.com.ar/pelotas\n",
    "* https://listado.mercadolibre.com.ar/pelotas-futbol\n",
    "\n",
    "Esto es más parecido a lo que llamaríamos una **interfaz de programación**.\n"
   ]
  },
  {
   "cell_type": "markdown",
   "metadata": {
    "id": "pqfifHhUfpsj"
   },
   "source": [
    "Las APIs son mecanismos que permiten que una aplicación o servicio acceda a un recurso en otra aplicación o servicio (un cliente accede a recurso en un servidor).\n",
    "\n",
    "En la web, las interfaces de programación de uso más difundido son las APIs REST ([Representational state transfer](https://es.wikipedia.org/wiki/Transferencia_de_Estado_Representacional)). REST es un estilo para diseñar aplicaciones que especifica un conjunto de protocolos y métodos para interactuar con los recursos de internet escribiendo líneas de código.\n",
    "\n",
    "Estas APIs se comunican mediante el protocolo HTTP para interactuar con los recursos (es el medio de comunicación comunicación entre el usuario y el servidor). HTTP es el mismo protocolo que se utiliza para cargar páginas web en un navegador.\n",
    "Este protocolo indica cómo estructurar un mensaje de texto que describa la petición (**request**) del usuario o cliente a un servidor. Hay distintos tipos de peticiones que un usuario puede realizar, algunas de ellas son:\n",
    "\n",
    "* **POST**: Envía datos al servidor para crear un recurso nuevo.\n",
    "* **GET**: Se utiliza para obtener información de un recurso alojado en el servidor.\n",
    "* **PUT**: Actualiza (crea o modifica) un recurso del servidor.\n",
    "* **DELETE**: Elimina un recurso del servidor.\n",
    "\n",
    "El cliente manda una petición (**request**) y el servidor devuelve una respuesta (**response**).\n",
    "\n",
    "<font color=\"gray\">\n",
    "Fuente: Curso de Instituto Humai - APIs\n",
    "<font>"
   ]
  },
  {
   "cell_type": "markdown",
   "metadata": {
    "id": "AmN5n_xDfpsj"
   },
   "source": [
    "Cada vez que vamos al navegador y escribimos la dirección de una página web, **estamos haciendo un GET request** a un servidor. Esto es una petición para adquirir el código de un recurso que queremos visualizar en el navegador.\n",
    "\n",
    "La URL es la parte más importante de la definición de un GET request (aunque el navegador agrega otras cosas también, que no vemos) y nos permite cambiar la representación deseada de un mismo recurso de distintas maneras:\n",
    "\n",
    "* https://deportes.mercadolibre.com.ar/pelotas-futbol pide al servidor pelotas de fútbol.\n",
    "* https://deportes.mercadolibre.com.ar/pelotas-futbol_OrderId_PRICE pide al servidor pelotas de fútbol ordenadas por precio.\n",
    "\n",
    "Cuando escribimos una URL en un navegador, la mayoría de las veces hacemos GET requests que devuelven código HTML (el código que da una estructura a una página web, tal como vimos en el video anterior cuando obteníamos el código HTML al hacer web scraping). Pero los GET requests pueden devolver datos en otros formatos (por ejemplo en JSON y en CSV).\n",
    "\n",
    "Las APIs REST que definen GET requests capaces de devolver datos en formato JSON y CSV, son particularmente útiles cuando queremos analizar datos.\n",
    "\n",
    "Ahora vamos a conocer algunas APIs."
   ]
  },
  {
   "cell_type": "markdown",
   "metadata": {},
   "source": [
    "### API World Bank"
   ]
  },
  {
   "cell_type": "markdown",
   "metadata": {},
   "source": [
    "Pueden ver la documentación [acá](https://wbdata.readthedocs.io/en/stable/)"
   ]
  },
  {
   "cell_type": "code",
   "execution_count": null,
   "metadata": {},
   "outputs": [],
   "source": [
    "import sys\n",
    "!{sys.executable} -m pip install wbdata # a mi esta linea me anda bien para installar el nuevo paquete \"wbdata\". Este es una wrapper de para usar la API del Banco Mundial (World Bank)"
   ]
  },
  {
   "cell_type": "code",
   "execution_count": 2,
   "metadata": {},
   "outputs": [],
   "source": [
    "#!pip install wbdata\n",
    "import wbdata\n",
    "import pandas as pd"
   ]
  },
  {
   "cell_type": "code",
   "execution_count": null,
   "metadata": {},
   "outputs": [],
   "source": [
    "help(wbdata)"
   ]
  },
  {
   "cell_type": "code",
   "execution_count": 4,
   "metadata": {},
   "outputs": [],
   "source": [
    "indicadores = {'HD.HCI.HLOS.FE':'scores_edu_fem','HD.HCI.HLOS.MA':'scores_edu_masc'}\n",
    "#HD.HCI.HLOS.FE                   Harmonized Test Scores, Female\n",
    "#HD.HCI.HLOS.MA                   Harmonized Test Scores, Male\n",
    "\n",
    "data = wbdata.get_dataframe(indicadores, country=['USA','ARG'])\n",
    "\n",
    "df = pd.DataFrame(data=data)"
   ]
  },
  {
   "cell_type": "code",
   "execution_count": 6,
   "metadata": {},
   "outputs": [
    {
     "data": {
      "text/html": [
       "<div>\n",
       "<style scoped>\n",
       "    .dataframe tbody tr th:only-of-type {\n",
       "        vertical-align: middle;\n",
       "    }\n",
       "\n",
       "    .dataframe tbody tr th {\n",
       "        vertical-align: top;\n",
       "    }\n",
       "\n",
       "    .dataframe thead th {\n",
       "        text-align: right;\n",
       "    }\n",
       "</style>\n",
       "<table border=\"1\" class=\"dataframe\">\n",
       "  <thead>\n",
       "    <tr style=\"text-align: right;\">\n",
       "      <th></th>\n",
       "      <th></th>\n",
       "      <th>scores_edu_fem</th>\n",
       "      <th>scores_edu_masc</th>\n",
       "    </tr>\n",
       "    <tr>\n",
       "      <th>country</th>\n",
       "      <th>date</th>\n",
       "      <th></th>\n",
       "      <th></th>\n",
       "    </tr>\n",
       "  </thead>\n",
       "  <tbody>\n",
       "    <tr>\n",
       "      <th rowspan=\"5\" valign=\"top\">Argentina</th>\n",
       "      <th>2020</th>\n",
       "      <td>406.452667</td>\n",
       "      <td>409.942383</td>\n",
       "    </tr>\n",
       "    <tr>\n",
       "      <th>2019</th>\n",
       "      <td>NaN</td>\n",
       "      <td>NaN</td>\n",
       "    </tr>\n",
       "    <tr>\n",
       "      <th>2018</th>\n",
       "      <td>420.933350</td>\n",
       "      <td>427.109039</td>\n",
       "    </tr>\n",
       "    <tr>\n",
       "      <th>2017</th>\n",
       "      <td>421.000000</td>\n",
       "      <td>427.000000</td>\n",
       "    </tr>\n",
       "    <tr>\n",
       "      <th>2016</th>\n",
       "      <td>NaN</td>\n",
       "      <td>NaN</td>\n",
       "    </tr>\n",
       "  </tbody>\n",
       "</table>\n",
       "</div>"
      ],
      "text/plain": [
       "                scores_edu_fem  scores_edu_masc\n",
       "country   date                                 \n",
       "Argentina 2020      406.452667       409.942383\n",
       "          2019             NaN              NaN\n",
       "          2018      420.933350       427.109039\n",
       "          2017      421.000000       427.000000\n",
       "          2016             NaN              NaN"
      ]
     },
     "execution_count": 6,
     "metadata": {},
     "output_type": "execute_result"
    }
   ],
   "source": [
    "df.head()"
   ]
  },
  {
   "cell_type": "code",
   "execution_count": 8,
   "metadata": {},
   "outputs": [
    {
     "data": {
      "text/html": [
       "<div>\n",
       "<style scoped>\n",
       "    .dataframe tbody tr th:only-of-type {\n",
       "        vertical-align: middle;\n",
       "    }\n",
       "\n",
       "    .dataframe tbody tr th {\n",
       "        vertical-align: top;\n",
       "    }\n",
       "\n",
       "    .dataframe thead th {\n",
       "        text-align: right;\n",
       "    }\n",
       "</style>\n",
       "<table border=\"1\" class=\"dataframe\">\n",
       "  <thead>\n",
       "    <tr style=\"text-align: right;\">\n",
       "      <th></th>\n",
       "      <th></th>\n",
       "      <th>scores_edu_fem</th>\n",
       "      <th>scores_edu_masc</th>\n",
       "    </tr>\n",
       "    <tr>\n",
       "      <th>country</th>\n",
       "      <th>date</th>\n",
       "      <th></th>\n",
       "      <th></th>\n",
       "    </tr>\n",
       "  </thead>\n",
       "  <tbody>\n",
       "    <tr>\n",
       "      <th rowspan=\"11\" valign=\"top\">Argentina</th>\n",
       "      <th>2020</th>\n",
       "      <td>406.452667</td>\n",
       "      <td>409.942383</td>\n",
       "    </tr>\n",
       "    <tr>\n",
       "      <th>2019</th>\n",
       "      <td>NaN</td>\n",
       "      <td>NaN</td>\n",
       "    </tr>\n",
       "    <tr>\n",
       "      <th>2018</th>\n",
       "      <td>420.933350</td>\n",
       "      <td>427.109039</td>\n",
       "    </tr>\n",
       "    <tr>\n",
       "      <th>2017</th>\n",
       "      <td>421.000000</td>\n",
       "      <td>427.000000</td>\n",
       "    </tr>\n",
       "    <tr>\n",
       "      <th>2016</th>\n",
       "      <td>NaN</td>\n",
       "      <td>NaN</td>\n",
       "    </tr>\n",
       "    <tr>\n",
       "      <th>2015</th>\n",
       "      <td>NaN</td>\n",
       "      <td>NaN</td>\n",
       "    </tr>\n",
       "    <tr>\n",
       "      <th>2014</th>\n",
       "      <td>NaN</td>\n",
       "      <td>NaN</td>\n",
       "    </tr>\n",
       "    <tr>\n",
       "      <th>2013</th>\n",
       "      <td>NaN</td>\n",
       "      <td>NaN</td>\n",
       "    </tr>\n",
       "    <tr>\n",
       "      <th>2012</th>\n",
       "      <td>NaN</td>\n",
       "      <td>NaN</td>\n",
       "    </tr>\n",
       "    <tr>\n",
       "      <th>2011</th>\n",
       "      <td>NaN</td>\n",
       "      <td>NaN</td>\n",
       "    </tr>\n",
       "    <tr>\n",
       "      <th>2010</th>\n",
       "      <td>414.181763</td>\n",
       "      <td>402.934509</td>\n",
       "    </tr>\n",
       "    <tr>\n",
       "      <th rowspan=\"11\" valign=\"top\">United States</th>\n",
       "      <th>2020</th>\n",
       "      <td>514.136536</td>\n",
       "      <td>509.559448</td>\n",
       "    </tr>\n",
       "    <tr>\n",
       "      <th>2019</th>\n",
       "      <td>NaN</td>\n",
       "      <td>NaN</td>\n",
       "    </tr>\n",
       "    <tr>\n",
       "      <th>2018</th>\n",
       "      <td>523.395203</td>\n",
       "      <td>521.843384</td>\n",
       "    </tr>\n",
       "    <tr>\n",
       "      <th>2017</th>\n",
       "      <td>523.000000</td>\n",
       "      <td>522.000000</td>\n",
       "    </tr>\n",
       "    <tr>\n",
       "      <th>2016</th>\n",
       "      <td>NaN</td>\n",
       "      <td>NaN</td>\n",
       "    </tr>\n",
       "    <tr>\n",
       "      <th>2015</th>\n",
       "      <td>NaN</td>\n",
       "      <td>NaN</td>\n",
       "    </tr>\n",
       "    <tr>\n",
       "      <th>2014</th>\n",
       "      <td>NaN</td>\n",
       "      <td>NaN</td>\n",
       "    </tr>\n",
       "    <tr>\n",
       "      <th>2013</th>\n",
       "      <td>NaN</td>\n",
       "      <td>NaN</td>\n",
       "    </tr>\n",
       "    <tr>\n",
       "      <th>2012</th>\n",
       "      <td>NaN</td>\n",
       "      <td>NaN</td>\n",
       "    </tr>\n",
       "    <tr>\n",
       "      <th>2011</th>\n",
       "      <td>NaN</td>\n",
       "      <td>NaN</td>\n",
       "    </tr>\n",
       "    <tr>\n",
       "      <th>2010</th>\n",
       "      <td>511.146606</td>\n",
       "      <td>514.809570</td>\n",
       "    </tr>\n",
       "  </tbody>\n",
       "</table>\n",
       "</div>"
      ],
      "text/plain": [
       "                    scores_edu_fem  scores_edu_masc\n",
       "country       date                                 \n",
       "Argentina     2020      406.452667       409.942383\n",
       "              2019             NaN              NaN\n",
       "              2018      420.933350       427.109039\n",
       "              2017      421.000000       427.000000\n",
       "              2016             NaN              NaN\n",
       "              2015             NaN              NaN\n",
       "              2014             NaN              NaN\n",
       "              2013             NaN              NaN\n",
       "              2012             NaN              NaN\n",
       "              2011             NaN              NaN\n",
       "              2010      414.181763       402.934509\n",
       "United States 2020      514.136536       509.559448\n",
       "              2019             NaN              NaN\n",
       "              2018      523.395203       521.843384\n",
       "              2017      523.000000       522.000000\n",
       "              2016             NaN              NaN\n",
       "              2015             NaN              NaN\n",
       "              2014             NaN              NaN\n",
       "              2013             NaN              NaN\n",
       "              2012             NaN              NaN\n",
       "              2011             NaN              NaN\n",
       "              2010      511.146606       514.809570"
      ]
     },
     "execution_count": 8,
     "metadata": {},
     "output_type": "execute_result"
    }
   ],
   "source": [
    "df"
   ]
  },
  {
   "cell_type": "code",
   "execution_count": 10,
   "metadata": {},
   "outputs": [
    {
     "data": {
      "text/plain": [
       "<matplotlib.legend.Legend at 0x1392abd90>"
      ]
     },
     "execution_count": 10,
     "metadata": {},
     "output_type": "execute_result"
    },
    {
     "data": {
      "image/png": "[encoded data removed]",
      "text/plain": [
       "<Figure size 640x480 with 1 Axes>"
      ]
     },
     "metadata": {},
     "output_type": "display_data"
    }
   ],
   "source": [
    "ax = df.plot(kind='bar', title='Puntaje en educación')\n",
    "ax.set_xlabel('País-Año',color='grey')\n",
    "ax.set_ylabel('Puntaje',color='grey')\n",
    "ax.legend([\"Mujeres\",\"Varones\"])\n",
    "# Acá estamos usando el index del df como xticklabels"
   ]
  },
  {
   "cell_type": "markdown",
   "metadata": {},
   "source": [
    "Ahora buscamos hacer un gráfico solo con datos del año 2020"
   ]
  },
  {
   "cell_type": "code",
   "execution_count": 12,
   "metadata": {},
   "outputs": [
    {
     "data": {
      "text/html": [
       "<div>\n",
       "<style scoped>\n",
       "    .dataframe tbody tr th:only-of-type {\n",
       "        vertical-align: middle;\n",
       "    }\n",
       "\n",
       "    .dataframe tbody tr th {\n",
       "        vertical-align: top;\n",
       "    }\n",
       "\n",
       "    .dataframe thead th {\n",
       "        text-align: right;\n",
       "    }\n",
       "</style>\n",
       "<table border=\"1\" class=\"dataframe\">\n",
       "  <thead>\n",
       "    <tr style=\"text-align: right;\">\n",
       "      <th></th>\n",
       "      <th>country</th>\n",
       "      <th>date</th>\n",
       "      <th>scores_edu_fem</th>\n",
       "      <th>scores_edu_masc</th>\n",
       "    </tr>\n",
       "  </thead>\n",
       "  <tbody>\n",
       "    <tr>\n",
       "      <th>0</th>\n",
       "      <td>Argentina</td>\n",
       "      <td>2020</td>\n",
       "      <td>406.452667</td>\n",
       "      <td>409.942383</td>\n",
       "    </tr>\n",
       "    <tr>\n",
       "      <th>1</th>\n",
       "      <td>Argentina</td>\n",
       "      <td>2019</td>\n",
       "      <td>NaN</td>\n",
       "      <td>NaN</td>\n",
       "    </tr>\n",
       "    <tr>\n",
       "      <th>2</th>\n",
       "      <td>Argentina</td>\n",
       "      <td>2018</td>\n",
       "      <td>420.933350</td>\n",
       "      <td>427.109039</td>\n",
       "    </tr>\n",
       "    <tr>\n",
       "      <th>3</th>\n",
       "      <td>Argentina</td>\n",
       "      <td>2017</td>\n",
       "      <td>421.000000</td>\n",
       "      <td>427.000000</td>\n",
       "    </tr>\n",
       "    <tr>\n",
       "      <th>4</th>\n",
       "      <td>Argentina</td>\n",
       "      <td>2016</td>\n",
       "      <td>NaN</td>\n",
       "      <td>NaN</td>\n",
       "    </tr>\n",
       "    <tr>\n",
       "      <th>5</th>\n",
       "      <td>Argentina</td>\n",
       "      <td>2015</td>\n",
       "      <td>NaN</td>\n",
       "      <td>NaN</td>\n",
       "    </tr>\n",
       "    <tr>\n",
       "      <th>6</th>\n",
       "      <td>Argentina</td>\n",
       "      <td>2014</td>\n",
       "      <td>NaN</td>\n",
       "      <td>NaN</td>\n",
       "    </tr>\n",
       "    <tr>\n",
       "      <th>7</th>\n",
       "      <td>Argentina</td>\n",
       "      <td>2013</td>\n",
       "      <td>NaN</td>\n",
       "      <td>NaN</td>\n",
       "    </tr>\n",
       "    <tr>\n",
       "      <th>8</th>\n",
       "      <td>Argentina</td>\n",
       "      <td>2012</td>\n",
       "      <td>NaN</td>\n",
       "      <td>NaN</td>\n",
       "    </tr>\n",
       "    <tr>\n",
       "      <th>9</th>\n",
       "      <td>Argentina</td>\n",
       "      <td>2011</td>\n",
       "      <td>NaN</td>\n",
       "      <td>NaN</td>\n",
       "    </tr>\n",
       "    <tr>\n",
       "      <th>10</th>\n",
       "      <td>Argentina</td>\n",
       "      <td>2010</td>\n",
       "      <td>414.181763</td>\n",
       "      <td>402.934509</td>\n",
       "    </tr>\n",
       "    <tr>\n",
       "      <th>11</th>\n",
       "      <td>United States</td>\n",
       "      <td>2020</td>\n",
       "      <td>514.136536</td>\n",
       "      <td>509.559448</td>\n",
       "    </tr>\n",
       "    <tr>\n",
       "      <th>12</th>\n",
       "      <td>United States</td>\n",
       "      <td>2019</td>\n",
       "      <td>NaN</td>\n",
       "      <td>NaN</td>\n",
       "    </tr>\n",
       "    <tr>\n",
       "      <th>13</th>\n",
       "      <td>United States</td>\n",
       "      <td>2018</td>\n",
       "      <td>523.395203</td>\n",
       "      <td>521.843384</td>\n",
       "    </tr>\n",
       "    <tr>\n",
       "      <th>14</th>\n",
       "      <td>United States</td>\n",
       "      <td>2017</td>\n",
       "      <td>523.000000</td>\n",
       "      <td>522.000000</td>\n",
       "    </tr>\n",
       "    <tr>\n",
       "      <th>15</th>\n",
       "      <td>United States</td>\n",
       "      <td>2016</td>\n",
       "      <td>NaN</td>\n",
       "      <td>NaN</td>\n",
       "    </tr>\n",
       "    <tr>\n",
       "      <th>16</th>\n",
       "      <td>United States</td>\n",
       "      <td>2015</td>\n",
       "      <td>NaN</td>\n",
       "      <td>NaN</td>\n",
       "    </tr>\n",
       "    <tr>\n",
       "      <th>17</th>\n",
       "      <td>United States</td>\n",
       "      <td>2014</td>\n",
       "      <td>NaN</td>\n",
       "      <td>NaN</td>\n",
       "    </tr>\n",
       "    <tr>\n",
       "      <th>18</th>\n",
       "      <td>United States</td>\n",
       "      <td>2013</td>\n",
       "      <td>NaN</td>\n",
       "      <td>NaN</td>\n",
       "    </tr>\n",
       "    <tr>\n",
       "      <th>19</th>\n",
       "      <td>United States</td>\n",
       "      <td>2012</td>\n",
       "      <td>NaN</td>\n",
       "      <td>NaN</td>\n",
       "    </tr>\n",
       "    <tr>\n",
       "      <th>20</th>\n",
       "      <td>United States</td>\n",
       "      <td>2011</td>\n",
       "      <td>NaN</td>\n",
       "      <td>NaN</td>\n",
       "    </tr>\n",
       "    <tr>\n",
       "      <th>21</th>\n",
       "      <td>United States</td>\n",
       "      <td>2010</td>\n",
       "      <td>511.146606</td>\n",
       "      <td>514.809570</td>\n",
       "    </tr>\n",
       "  </tbody>\n",
       "</table>\n",
       "</div>"
      ],
      "text/plain": [
       "          country  date  scores_edu_fem  scores_edu_masc\n",
       "0       Argentina  2020      406.452667       409.942383\n",
       "1       Argentina  2019             NaN              NaN\n",
       "2       Argentina  2018      420.933350       427.109039\n",
       "3       Argentina  2017      421.000000       427.000000\n",
       "4       Argentina  2016             NaN              NaN\n",
       "5       Argentina  2015             NaN              NaN\n",
       "6       Argentina  2014             NaN              NaN\n",
       "7       Argentina  2013             NaN              NaN\n",
       "8       Argentina  2012             NaN              NaN\n",
       "9       Argentina  2011             NaN              NaN\n",
       "10      Argentina  2010      414.181763       402.934509\n",
       "11  United States  2020      514.136536       509.559448\n",
       "12  United States  2019             NaN              NaN\n",
       "13  United States  2018      523.395203       521.843384\n",
       "14  United States  2017      523.000000       522.000000\n",
       "15  United States  2016             NaN              NaN\n",
       "16  United States  2015             NaN              NaN\n",
       "17  United States  2014             NaN              NaN\n",
       "18  United States  2013             NaN              NaN\n",
       "19  United States  2012             NaN              NaN\n",
       "20  United States  2011             NaN              NaN\n",
       "21  United States  2010      511.146606       514.809570"
      ]
     },
     "execution_count": 12,
     "metadata": {},
     "output_type": "execute_result"
    }
   ],
   "source": [
    "# Dejamos índice como columnas\n",
    "df.reset_index(inplace=True)\n",
    "df"
   ]
  },
  {
   "cell_type": "code",
   "execution_count": 14,
   "metadata": {},
   "outputs": [
    {
     "name": "stdout",
     "output_type": "stream",
     "text": [
      "object\n"
     ]
    },
    {
     "data": {
      "text/html": [
       "<div>\n",
       "<style scoped>\n",
       "    .dataframe tbody tr th:only-of-type {\n",
       "        vertical-align: middle;\n",
       "    }\n",
       "\n",
       "    .dataframe tbody tr th {\n",
       "        vertical-align: top;\n",
       "    }\n",
       "\n",
       "    .dataframe thead th {\n",
       "        text-align: right;\n",
       "    }\n",
       "</style>\n",
       "<table border=\"1\" class=\"dataframe\">\n",
       "  <thead>\n",
       "    <tr style=\"text-align: right;\">\n",
       "      <th></th>\n",
       "      <th>country</th>\n",
       "      <th>date</th>\n",
       "      <th>scores_edu_fem</th>\n",
       "      <th>scores_edu_masc</th>\n",
       "    </tr>\n",
       "  </thead>\n",
       "  <tbody>\n",
       "    <tr>\n",
       "      <th>0</th>\n",
       "      <td>Argentina</td>\n",
       "      <td>2020</td>\n",
       "      <td>406.452667</td>\n",
       "      <td>409.942383</td>\n",
       "    </tr>\n",
       "    <tr>\n",
       "      <th>11</th>\n",
       "      <td>United States</td>\n",
       "      <td>2020</td>\n",
       "      <td>514.136536</td>\n",
       "      <td>509.559448</td>\n",
       "    </tr>\n",
       "  </tbody>\n",
       "</table>\n",
       "</div>"
      ],
      "text/plain": [
       "          country  date  scores_edu_fem  scores_edu_masc\n",
       "0       Argentina  2020      406.452667       409.942383\n",
       "11  United States  2020      514.136536       509.559448"
      ]
     },
     "execution_count": 14,
     "metadata": {},
     "output_type": "execute_result"
    }
   ],
   "source": [
    "print(df[\"date\"].dtype) # no es numérica\n",
    "df_2020 = df[df[\"date\"]==\"2020\"]\n",
    "df_2020"
   ]
  },
  {
   "cell_type": "code",
   "execution_count": 16,
   "metadata": {},
   "outputs": [
    {
     "data": {
      "text/html": [
       "<div>\n",
       "<style scoped>\n",
       "    .dataframe tbody tr th:only-of-type {\n",
       "        vertical-align: middle;\n",
       "    }\n",
       "\n",
       "    .dataframe tbody tr th {\n",
       "        vertical-align: top;\n",
       "    }\n",
       "\n",
       "    .dataframe thead th {\n",
       "        text-align: right;\n",
       "    }\n",
       "</style>\n",
       "<table border=\"1\" class=\"dataframe\">\n",
       "  <thead>\n",
       "    <tr style=\"text-align: right;\">\n",
       "      <th></th>\n",
       "      <th></th>\n",
       "      <th>scores_edu_fem</th>\n",
       "      <th>scores_edu_masc</th>\n",
       "    </tr>\n",
       "    <tr>\n",
       "      <th>country</th>\n",
       "      <th>date</th>\n",
       "      <th></th>\n",
       "      <th></th>\n",
       "    </tr>\n",
       "  </thead>\n",
       "  <tbody>\n",
       "    <tr>\n",
       "      <th>Argentina</th>\n",
       "      <th>2020</th>\n",
       "      <td>406.452667</td>\n",
       "      <td>409.942383</td>\n",
       "    </tr>\n",
       "    <tr>\n",
       "      <th>United States</th>\n",
       "      <th>2020</th>\n",
       "      <td>514.136536</td>\n",
       "      <td>509.559448</td>\n",
       "    </tr>\n",
       "  </tbody>\n",
       "</table>\n",
       "</div>"
      ],
      "text/plain": [
       "                    scores_edu_fem  scores_edu_masc\n",
       "country       date                                 \n",
       "Argentina     2020      406.452667       409.942383\n",
       "United States 2020      514.136536       509.559448"
      ]
     },
     "execution_count": 16,
     "metadata": {},
     "output_type": "execute_result"
    }
   ],
   "source": [
    "df_2020 = df_2020.set_index([\"country\", \"date\"])\n",
    "df_2020"
   ]
  },
  {
   "cell_type": "code",
   "execution_count": 18,
   "metadata": {},
   "outputs": [
    {
     "data": {
      "text/plain": [
       "<matplotlib.legend.Legend at 0x138cddcd0>"
      ]
     },
     "execution_count": 18,
     "metadata": {},
     "output_type": "execute_result"
    },
    {
     "data": {
      "image/png": "[encoded data removed]",
      "text/plain": [
       "<Figure size 640x480 with 1 Axes>"
      ]
     },
     "metadata": {},
     "output_type": "display_data"
    }
   ],
   "source": [
    "# Graficamos\n",
    "ax = df_2020.plot(kind='bar', title='Puntaje en educación')\n",
    "ax.set_xlabel('País-Año',color='grey')\n",
    "ax.set_ylabel('Puntaje',color='grey')\n",
    "ax.tick_params(axis=\"x\", rotation=0)\n",
    "ax.legend([\"Mujeres\",\"Varones\"])"
   ]
  },
  {
   "cell_type": "markdown",
   "metadata": {
    "id": "AzeRiw9Yfpsk"
   },
   "source": [
    "### API Series de Tiempo\n",
    "\n",
    "La **[API Series de Tiempo de la Republica Argentina](https://apis.datos.gob.ar/series)** es una API REST desarrollada y mantenida por el Estado Nacional de Argentina para la consulta de estadísticas en formato de series de tiempo. Contiene series publicadas por organismos de la Administración Pública Nacional.\n",
    "\n",
    "La API permite:\n",
    "\n",
    "* [Buscar series](https://datosgobar.github.io/series-tiempo-ar-api/reference/search-reference/) por texto. También se pueden buscar en el sitio web de datos.gob.ar: https://datos.gob.ar/series\n",
    "* Cambiar la frecuencia (por ejemplo: convertir series diarias en mensuales)\n",
    "* Elegir la función de agregacion de valores, usada en el cambio de frecuencia (una serie se puede convertir de diaria a mensual promediando, sumando, sacando el maximo, el minimo, el ultimo valor del periodo, etc)\n",
    "* Filtrar por rango de fechas\n",
    "* Elegir el formato (CSV o JSON)\n",
    "* Cambiar configuracion del CSV (caracter separador, caracter decimal)\n",
    "\n",
    "En https://datos.gob.ar/series podés buscar series de tiempo publicadas por distintos organismos de la Administración Pública Nacional en Argentina y usar el link al CSV para leerlos directamente desde python con pandas.\n",
    "\n",
    "También podes **buscar los ids de las series de interés** y juntarlos en la misma consulta para armar una tabla de hasta 40 series."
   ]
  },
  {
   "cell_type": "code",
   "execution_count": null,
   "metadata": {},
   "outputs": [],
   "source": [
    "import requests\n",
    "import pandas as pd\n",
    "import matplotlib.pyplot as plt"
   ]
  },
  {
   "cell_type": "code",
   "execution_count": null,
   "metadata": {
    "id": "nZsrFDOLfpsk",
    "outputId": "e4358abc-e3ed-4723-a13e-9e72789a6426"
   },
   "outputs": [],
   "source": [
    "# Un ejemplo\n",
    "\n",
    "url_arg = \"https://apis.datos.gob.ar/series/api/series?ids=105.1_I2N_2016_M_16,105.1_I2L_2016_M_14,105.1_I2L_2016_M_16&format=json\"\n",
    "\n",
    "response = requests.get(url_arg)\n",
    "print(response)\n",
    "\n",
    "datos = response.json()\n",
    "datos"
   ]
  },
  {
   "cell_type": "code",
   "execution_count": null,
   "metadata": {
    "id": "vt802wz-fpsk"
   },
   "outputs": [],
   "source": [
    "d  = datos['data']\n",
    "data_arg = pd.DataFrame(d)\n",
    "data_arg.columns = ['fecha', 'IPC Limon', 'IPC Naranja', 'IPC Lechuga']"
   ]
  },
  {
   "cell_type": "code",
   "execution_count": null,
   "metadata": {
    "id": "c6TOFbtufpsk",
    "outputId": "9f9b5b15-3e10-4a9d-c7e3-63a6c7c9228e"
   },
   "outputs": [],
   "source": [
    "data_arg"
   ]
  },
  {
   "cell_type": "code",
   "execution_count": null,
   "metadata": {},
   "outputs": [],
   "source": [
    "data_arg['fecha'] = pd.to_datetime(data_arg['fecha'])\n",
    "\n",
    "# Creamos la figura y los axes\n",
    "fig, ax = plt.subplots()  # Crear objetos\n",
    "\n",
    "# Definimos series\n",
    "ax.plot(data_arg['fecha'], data_arg['IPC Limon'], label=\"IPC Limón\", color = '#FFDE21')  \n",
    "ax.plot(data_arg['fecha'], data_arg['IPC Naranja'], label=\"IPC Naranja\", color ='orange')  \n",
    "ax.plot(data_arg['fecha'], data_arg['IPC Lechuga'], label=\"IPC Lechuga\", color = 'green')\n",
    "\n",
    "# Modificamos labels y título\n",
    "ax.set_xlabel(\"Mes\")\n",
    "ax.set_ylabel(\"Índice (Diciembre 2016 = 1)\")\n",
    "ax.set_title(\"Evolución IPC\")\n",
    "\n",
    "# Configuramos las etiquetas del eje X para que solo muestren los meses de enero\n",
    "data_arg_january = data_arg[data_arg['fecha'].dt.month == 1]  # Filtramos solo los meses de enero\n",
    "ax.set_xticks(data_arg_january['fecha'])  # Establecemos los ticks solo en enero\n",
    "ax.set_xticklabels(data_arg_january['fecha'].dt.strftime('%Y-%m'))  # Mostramos solo el año y mes en formato 'YYYY-MM'\n",
    "plt.xticks(rotation=20)\n",
    "\n",
    "# Agregamos leyenda\n",
    "ax.legend()\n",
    "\n",
    "# Mostramos la figura\n",
    "plt.show()"
   ]
  }
 ],
 "metadata": {
  "colab": {
   "provenance": []
  },
  "kernelspec": {
   "display_name": "Python 3 (ipykernel)",
   "language": "python",
   "name": "python3"
  },
  "language_info": {
   "codemirror_mode": {
    "name": "ipython",
    "version": 3
   },
   "file_extension": ".py",
   "mimetype": "text/x-python",
   "name": "python",
   "nbconvert_exporter": "python",
   "pygments_lexer": "ipython3",
   "version": "3.11.7"
  },
  "varInspector": {
   "cols": {
    "lenName": 16,
    "lenType": 16,
    "lenVar": 40
   },
   "kernels_config": {
    "python": {
     "delete_cmd_postfix": "",
     "delete_cmd_prefix": "del ",
     "library": "var_list.py",
     "varRefreshCmd": "print(var_dic_list())"
    },
    "r": {
     "delete_cmd_postfix": ") ",
     "delete_cmd_prefix": "rm(",
     "library": "var_list.r",
     "varRefreshCmd": "cat(var_dic_list()) "
    }
   },
   "position": {
    "height": "484.85px",
    "left": "554.2px",
    "right": "20px",
    "top": "114px",
    "width": "417px"
   },
   "types_to_exclude": [
    "module",
    "function",
    "builtin_function_or_method",
    "instance",
    "_Feature"
   ],
   "window_display": false
  }
 },
 "nbformat": 4,
 "nbformat_minor": 4
}
